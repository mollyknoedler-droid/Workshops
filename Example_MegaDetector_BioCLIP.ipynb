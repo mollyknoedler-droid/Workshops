{
  "nbformat": 4,
  "nbformat_minor": 0,
  "metadata": {
    "colab": {
      "provenance": []
    },
    "kernelspec": {
      "name": "python3",
      "display_name": "Python 3"
    },
    "language_info": {
      "name": "python"
    }
  },
  "cells": [
    {
      "cell_type": "code",
      "source": [
        "!pip install megadetector torch torchvision pillow fiftyone pybioclip"
      ],
      "metadata": {
        "colab": {
          "base_uri": "https://localhost:8080/"
        },
        "id": "8EBH45BMayAJ",
        "outputId": "7607ab47-4440-4185-8241-5c9d68402fdc"
      },
      "execution_count": 23,
      "outputs": [
        {
          "output_type": "stream",
          "name": "stdout",
          "text": [
            "Requirement already satisfied: megadetector in /usr/local/lib/python3.11/dist-packages (10.0.3)\n",
            "Requirement already satisfied: torch in /usr/local/lib/python3.11/dist-packages (2.6.0+cu124)\n",
            "Requirement already satisfied: torchvision in /usr/local/lib/python3.11/dist-packages (0.21.0+cu124)\n",
            "Requirement already satisfied: pillow in /usr/local/lib/python3.11/dist-packages (11.3.0)\n",
            "Requirement already satisfied: fiftyone in /usr/local/lib/python3.11/dist-packages (1.7.2)\n",
            "Collecting pybioclip\n",
            "  Downloading pybioclip-2.0.0-py3-none-any.whl.metadata (3.4 kB)\n",
            "Requirement already satisfied: mkl==2024.0 in /usr/local/lib/python3.11/dist-packages (from megadetector) (2024.0.0)\n",
            "Requirement already satisfied: numpy>=1.26.4 in /usr/local/lib/python3.11/dist-packages (from megadetector) (2.0.2)\n",
            "Requirement already satisfied: tqdm>=4.64.0 in /usr/local/lib/python3.11/dist-packages (from megadetector) (4.67.1)\n",
            "Requirement already satisfied: jsonpickle>=3.0.2 in /usr/local/lib/python3.11/dist-packages (from megadetector) (4.1.1)\n",
            "Requirement already satisfied: humanfriendly>=10.0 in /usr/local/lib/python3.11/dist-packages (from megadetector) (10.0)\n",
            "Requirement already satisfied: matplotlib>=3.8.0 in /usr/local/lib/python3.11/dist-packages (from megadetector) (3.10.0)\n",
            "Requirement already satisfied: opencv-python>=4.8.0 in /usr/local/lib/python3.11/dist-packages (from megadetector) (4.12.0.88)\n",
            "Requirement already satisfied: requests>=2.31.0 in /usr/local/lib/python3.11/dist-packages (from megadetector) (2.32.3)\n",
            "Requirement already satisfied: pyqtree>=1.0.0 in /usr/local/lib/python3.11/dist-packages (from megadetector) (1.0.0)\n",
            "Requirement already satisfied: scikit-learn>=1.3.1 in /usr/local/lib/python3.11/dist-packages (from megadetector) (1.6.1)\n",
            "Requirement already satisfied: pandas>=2.1.1 in /usr/local/lib/python3.11/dist-packages (from megadetector) (2.2.2)\n",
            "Requirement already satisfied: python-dateutil in /usr/local/lib/python3.11/dist-packages (from megadetector) (2.9.0.post0)\n",
            "Requirement already satisfied: send2trash in /usr/local/lib/python3.11/dist-packages (from megadetector) (1.8.3)\n",
            "Requirement already satisfied: clipboard in /usr/local/lib/python3.11/dist-packages (from megadetector) (0.0.4)\n",
            "Requirement already satisfied: dill in /usr/local/lib/python3.11/dist-packages (from megadetector) (0.3.8)\n",
            "Requirement already satisfied: ruff in /usr/local/lib/python3.11/dist-packages (from megadetector) (0.12.8)\n",
            "Requirement already satisfied: pytest in /usr/local/lib/python3.11/dist-packages (from megadetector) (8.4.1)\n",
            "Requirement already satisfied: ultralytics-yolov5==0.1.1 in /usr/local/lib/python3.11/dist-packages (from megadetector) (0.1.1)\n",
            "Requirement already satisfied: yolov9pip==0.0.4 in /usr/local/lib/python3.11/dist-packages (from megadetector) (0.0.4)\n",
            "Requirement already satisfied: intel-openmp==2024.* in /usr/local/lib/python3.11/dist-packages (from mkl==2024.0->megadetector) (2024.2.1)\n",
            "Requirement already satisfied: tbb==2021.* in /usr/local/lib/python3.11/dist-packages (from mkl==2024.0->megadetector) (2021.13.1)\n",
            "Requirement already satisfied: PyYAML>=5.3.1 in /usr/local/lib/python3.11/dist-packages (from ultralytics-yolov5==0.1.1->megadetector) (6.0.2)\n",
            "Requirement already satisfied: scipy>=1.4.1 in /usr/local/lib/python3.11/dist-packages (from ultralytics-yolov5==0.1.1->megadetector) (1.16.1)\n",
            "Requirement already satisfied: protobuf<=3.20.1 in /usr/local/lib/python3.11/dist-packages (from ultralytics-yolov5==0.1.1->megadetector) (3.20.1)\n",
            "Requirement already satisfied: fire in /usr/local/lib/python3.11/dist-packages (from ultralytics-yolov5==0.1.1->megadetector) (0.7.0)\n",
            "Requirement already satisfied: tensorboard>=2.4.1 in /usr/local/lib/python3.11/dist-packages (from ultralytics-yolov5==0.1.1->megadetector) (2.19.0)\n",
            "Requirement already satisfied: seaborn>=0.11.0 in /usr/local/lib/python3.11/dist-packages (from ultralytics-yolov5==0.1.1->megadetector) (0.13.2)\n",
            "Requirement already satisfied: ipython in /usr/local/lib/python3.11/dist-packages (from ultralytics-yolov5==0.1.1->megadetector) (7.34.0)\n",
            "Requirement already satisfied: psutil in /usr/local/lib/python3.11/dist-packages (from ultralytics-yolov5==0.1.1->megadetector) (5.9.5)\n",
            "Requirement already satisfied: thop in /usr/local/lib/python3.11/dist-packages (from ultralytics-yolov5==0.1.1->megadetector) (0.1.1.post2209072238)\n",
            "Requirement already satisfied: gitpython in /usr/local/lib/python3.11/dist-packages (from yolov9pip==0.0.4->megadetector) (3.1.45)\n",
            "Requirement already satisfied: albumentations>=1.0.3 in /usr/local/lib/python3.11/dist-packages (from yolov9pip==0.0.4->megadetector) (2.0.8)\n",
            "Requirement already satisfied: pycocotools>=2.0 in /usr/local/lib/python3.11/dist-packages (from yolov9pip==0.0.4->megadetector) (2.0.10)\n",
            "Requirement already satisfied: intel-cmplr-lib-ur==2024.2.1 in /usr/local/lib/python3.11/dist-packages (from intel-openmp==2024.*->mkl==2024.0->megadetector) (2024.2.1)\n",
            "Requirement already satisfied: filelock in /usr/local/lib/python3.11/dist-packages (from torch) (3.18.0)\n",
            "Requirement already satisfied: typing-extensions>=4.10.0 in /usr/local/lib/python3.11/dist-packages (from torch) (4.14.1)\n",
            "Requirement already satisfied: networkx in /usr/local/lib/python3.11/dist-packages (from torch) (3.5)\n",
            "Requirement already satisfied: jinja2 in /usr/local/lib/python3.11/dist-packages (from torch) (3.1.6)\n",
            "Requirement already satisfied: fsspec in /usr/local/lib/python3.11/dist-packages (from torch) (2025.3.0)\n",
            "Requirement already satisfied: nvidia-cuda-nvrtc-cu12==12.4.127 in /usr/local/lib/python3.11/dist-packages (from torch) (12.4.127)\n",
            "Requirement already satisfied: nvidia-cuda-runtime-cu12==12.4.127 in /usr/local/lib/python3.11/dist-packages (from torch) (12.4.127)\n",
            "Requirement already satisfied: nvidia-cuda-cupti-cu12==12.4.127 in /usr/local/lib/python3.11/dist-packages (from torch) (12.4.127)\n",
            "Requirement already satisfied: nvidia-cudnn-cu12==9.1.0.70 in /usr/local/lib/python3.11/dist-packages (from torch) (9.1.0.70)\n",
            "Requirement already satisfied: nvidia-cublas-cu12==12.4.5.8 in /usr/local/lib/python3.11/dist-packages (from torch) (12.4.5.8)\n",
            "Requirement already satisfied: nvidia-cufft-cu12==11.2.1.3 in /usr/local/lib/python3.11/dist-packages (from torch) (11.2.1.3)\n",
            "Requirement already satisfied: nvidia-curand-cu12==10.3.5.147 in /usr/local/lib/python3.11/dist-packages (from torch) (10.3.5.147)\n",
            "Requirement already satisfied: nvidia-cusolver-cu12==11.6.1.9 in /usr/local/lib/python3.11/dist-packages (from torch) (11.6.1.9)\n",
            "Requirement already satisfied: nvidia-cusparse-cu12==12.3.1.170 in /usr/local/lib/python3.11/dist-packages (from torch) (12.3.1.170)\n",
            "Requirement already satisfied: nvidia-cusparselt-cu12==0.6.2 in /usr/local/lib/python3.11/dist-packages (from torch) (0.6.2)\n",
            "Requirement already satisfied: nvidia-nccl-cu12==2.21.5 in /usr/local/lib/python3.11/dist-packages (from torch) (2.21.5)\n",
            "Requirement already satisfied: nvidia-nvtx-cu12==12.4.127 in /usr/local/lib/python3.11/dist-packages (from torch) (12.4.127)\n",
            "Requirement already satisfied: nvidia-nvjitlink-cu12==12.4.127 in /usr/local/lib/python3.11/dist-packages (from torch) (12.4.127)\n",
            "Requirement already satisfied: triton==3.2.0 in /usr/local/lib/python3.11/dist-packages (from torch) (3.2.0)\n",
            "Requirement already satisfied: sympy==1.13.1 in /usr/local/lib/python3.11/dist-packages (from torch) (1.13.1)\n",
            "Requirement already satisfied: mpmath<1.4,>=1.1.0 in /usr/local/lib/python3.11/dist-packages (from sympy==1.13.1->torch) (1.3.0)\n",
            "Requirement already satisfied: aiofiles in /usr/local/lib/python3.11/dist-packages (from fiftyone) (24.1.0)\n",
            "Requirement already satisfied: argcomplete in /usr/local/lib/python3.11/dist-packages (from fiftyone) (3.6.2)\n",
            "Requirement already satisfied: async_lru>=2 in /usr/local/lib/python3.11/dist-packages (from fiftyone) (2.0.5)\n",
            "Requirement already satisfied: beautifulsoup4 in /usr/local/lib/python3.11/dist-packages (from fiftyone) (4.13.4)\n",
            "Requirement already satisfied: boto3 in /usr/local/lib/python3.11/dist-packages (from fiftyone) (1.40.10)\n",
            "Requirement already satisfied: cachetools in /usr/local/lib/python3.11/dist-packages (from fiftyone) (5.5.2)\n",
            "Requirement already satisfied: dacite<1.8.0,>=1.6.0 in /usr/local/lib/python3.11/dist-packages (from fiftyone) (1.7.0)\n",
            "Requirement already satisfied: Deprecated in /usr/local/lib/python3.11/dist-packages (from fiftyone) (1.2.18)\n",
            "Requirement already satisfied: ftfy in /usr/local/lib/python3.11/dist-packages (from fiftyone) (6.3.1)\n",
            "Requirement already satisfied: humanize in /usr/local/lib/python3.11/dist-packages (from fiftyone) (4.12.3)\n",
            "Requirement already satisfied: hypercorn>=0.13.2 in /usr/local/lib/python3.11/dist-packages (from fiftyone) (0.17.3)\n",
            "Requirement already satisfied: kaleido!=0.2.1.post1 in /usr/local/lib/python3.11/dist-packages (from fiftyone) (1.0.0)\n",
            "Requirement already satisfied: mongoengine~=0.29.1 in /usr/local/lib/python3.11/dist-packages (from fiftyone) (0.29.1)\n",
            "Requirement already satisfied: motor~=3.6.0 in /usr/local/lib/python3.11/dist-packages (from fiftyone) (3.6.1)\n",
            "Requirement already satisfied: packaging in /usr/local/lib/python3.11/dist-packages (from fiftyone) (25.0)\n",
            "Requirement already satisfied: plotly>=4.14 in /usr/local/lib/python3.11/dist-packages (from fiftyone) (5.24.1)\n",
            "Requirement already satisfied: pprintpp in /usr/local/lib/python3.11/dist-packages (from fiftyone) (0.4.0)\n",
            "Requirement already satisfied: pymongo~=4.9.2 in /usr/local/lib/python3.11/dist-packages (from fiftyone) (4.9.2)\n",
            "Requirement already satisfied: pytz in /usr/local/lib/python3.11/dist-packages (from fiftyone) (2025.2)\n",
            "Requirement already satisfied: regex in /usr/local/lib/python3.11/dist-packages (from fiftyone) (2024.11.6)\n",
            "Requirement already satisfied: retrying in /usr/local/lib/python3.11/dist-packages (from fiftyone) (1.4.2)\n",
            "Requirement already satisfied: rtree in /usr/local/lib/python3.11/dist-packages (from fiftyone) (1.4.1)\n",
            "Requirement already satisfied: scikit-image in /usr/local/lib/python3.11/dist-packages (from fiftyone) (0.25.2)\n",
            "Requirement already satisfied: setuptools in /usr/local/lib/python3.11/dist-packages (from fiftyone) (75.2.0)\n",
            "Requirement already satisfied: sseclient-py<2,>=1.7.2 in /usr/local/lib/python3.11/dist-packages (from fiftyone) (1.8.0)\n",
            "Requirement already satisfied: sse-starlette<1,>=0.10.3 in /usr/local/lib/python3.11/dist-packages (from fiftyone) (0.10.3)\n",
            "Requirement already satisfied: starlette>=0.24.0 in /usr/local/lib/python3.11/dist-packages (from fiftyone) (0.47.2)\n",
            "Requirement already satisfied: strawberry-graphql>=0.262.4 in /usr/local/lib/python3.11/dist-packages (from fiftyone) (0.278.1)\n",
            "Requirement already satisfied: tabulate in /usr/local/lib/python3.11/dist-packages (from fiftyone) (0.9.0)\n",
            "Requirement already satisfied: xmltodict in /usr/local/lib/python3.11/dist-packages (from fiftyone) (0.14.2)\n",
            "Requirement already satisfied: universal-analytics-python3<2,>=1.0.1 in /usr/local/lib/python3.11/dist-packages (from fiftyone) (1.1.1)\n",
            "Requirement already satisfied: pydash in /usr/local/lib/python3.11/dist-packages (from fiftyone) (8.0.5)\n",
            "Requirement already satisfied: fiftyone-brain<0.22,>=0.21.2 in /usr/local/lib/python3.11/dist-packages (from fiftyone) (0.21.2)\n",
            "Requirement already satisfied: fiftyone-db<2.0,>=0.4 in /usr/local/lib/python3.11/dist-packages (from fiftyone) (1.3.0)\n",
            "Requirement already satisfied: voxel51-eta<0.15,>=0.14.3 in /usr/local/lib/python3.11/dist-packages (from fiftyone) (0.14.4)\n",
            "Requirement already satisfied: opencv-python-headless in /usr/local/lib/python3.11/dist-packages (from fiftyone) (4.12.0.88)\n",
            "Collecting open-clip-torch (from pybioclip)\n",
            "  Downloading open_clip_torch-3.1.0-py3-none-any.whl.metadata (32 kB)\n",
            "Requirement already satisfied: prettytable in /usr/local/lib/python3.11/dist-packages (from pybioclip) (3.16.0)\n",
            "Requirement already satisfied: h11 in /usr/local/lib/python3.11/dist-packages (from hypercorn>=0.13.2->fiftyone) (0.16.0)\n",
            "Requirement already satisfied: h2>=3.1.0 in /usr/local/lib/python3.11/dist-packages (from hypercorn>=0.13.2->fiftyone) (4.2.0)\n",
            "Requirement already satisfied: priority in /usr/local/lib/python3.11/dist-packages (from hypercorn>=0.13.2->fiftyone) (2.0.0)\n",
            "Requirement already satisfied: wsproto>=0.14.0 in /usr/local/lib/python3.11/dist-packages (from hypercorn>=0.13.2->fiftyone) (1.2.0)\n",
            "Requirement already satisfied: MarkupSafe>=2.0 in /usr/local/lib/python3.11/dist-packages (from jinja2->torch) (3.0.2)\n",
            "Requirement already satisfied: choreographer>=1.0.5 in /usr/local/lib/python3.11/dist-packages (from kaleido!=0.2.1.post1->fiftyone) (1.0.9)\n",
            "Requirement already satisfied: logistro>=1.0.8 in /usr/local/lib/python3.11/dist-packages (from kaleido!=0.2.1.post1->fiftyone) (1.1.0)\n",
            "Requirement already satisfied: orjson>=3.10.15 in /usr/local/lib/python3.11/dist-packages (from kaleido!=0.2.1.post1->fiftyone) (3.11.1)\n",
            "Requirement already satisfied: contourpy>=1.0.1 in /usr/local/lib/python3.11/dist-packages (from matplotlib>=3.8.0->megadetector) (1.3.3)\n",
            "Requirement already satisfied: cycler>=0.10 in /usr/local/lib/python3.11/dist-packages (from matplotlib>=3.8.0->megadetector) (0.12.1)\n",
            "Requirement already satisfied: fonttools>=4.22.0 in /usr/local/lib/python3.11/dist-packages (from matplotlib>=3.8.0->megadetector) (4.59.0)\n",
            "Requirement already satisfied: kiwisolver>=1.3.1 in /usr/local/lib/python3.11/dist-packages (from matplotlib>=3.8.0->megadetector) (1.4.9)\n",
            "Requirement already satisfied: pyparsing>=2.3.1 in /usr/local/lib/python3.11/dist-packages (from matplotlib>=3.8.0->megadetector) (3.2.3)\n",
            "Requirement already satisfied: tzdata>=2022.7 in /usr/local/lib/python3.11/dist-packages (from pandas>=2.1.1->megadetector) (2025.2)\n",
            "Requirement already satisfied: tenacity>=6.2.0 in /usr/local/lib/python3.11/dist-packages (from plotly>=4.14->fiftyone) (9.1.2)\n",
            "Requirement already satisfied: dnspython<3.0.0,>=1.16.0 in /usr/local/lib/python3.11/dist-packages (from pymongo~=4.9.2->fiftyone) (2.7.0)\n",
            "Requirement already satisfied: six>=1.5 in /usr/local/lib/python3.11/dist-packages (from python-dateutil->megadetector) (1.17.0)\n",
            "Requirement already satisfied: charset-normalizer<4,>=2 in /usr/local/lib/python3.11/dist-packages (from requests>=2.31.0->megadetector) (3.4.3)\n",
            "Requirement already satisfied: idna<4,>=2.5 in /usr/local/lib/python3.11/dist-packages (from requests>=2.31.0->megadetector) (3.10)\n",
            "Requirement already satisfied: urllib3<3,>=1.21.1 in /usr/local/lib/python3.11/dist-packages (from requests>=2.31.0->megadetector) (2.5.0)\n",
            "Requirement already satisfied: certifi>=2017.4.17 in /usr/local/lib/python3.11/dist-packages (from requests>=2.31.0->megadetector) (2025.8.3)\n",
            "Requirement already satisfied: joblib>=1.2.0 in /usr/local/lib/python3.11/dist-packages (from scikit-learn>=1.3.1->megadetector) (1.5.1)\n",
            "Requirement already satisfied: threadpoolctl>=3.1.0 in /usr/local/lib/python3.11/dist-packages (from scikit-learn>=1.3.1->megadetector) (3.6.0)\n",
            "Requirement already satisfied: anyio<5,>=3.6.2 in /usr/local/lib/python3.11/dist-packages (from starlette>=0.24.0->fiftyone) (4.10.0)\n",
            "Requirement already satisfied: graphql-core<3.4.0,>=3.2.0 in /usr/local/lib/python3.11/dist-packages (from strawberry-graphql>=0.262.4->fiftyone) (3.2.6)\n",
            "Requirement already satisfied: lia-web>=0.2.1 in /usr/local/lib/python3.11/dist-packages (from strawberry-graphql>=0.262.4->fiftyone) (0.2.3)\n",
            "Requirement already satisfied: httpx>=0.10.0 in /usr/local/lib/python3.11/dist-packages (from universal-analytics-python3<2,>=1.0.1->fiftyone) (0.28.1)\n",
            "Requirement already satisfied: future in /usr/local/lib/python3.11/dist-packages (from voxel51-eta<0.15,>=0.14.3->fiftyone) (1.0.0)\n",
            "Requirement already satisfied: glob2 in /usr/local/lib/python3.11/dist-packages (from voxel51-eta<0.15,>=0.14.3->fiftyone) (0.7)\n",
            "Requirement already satisfied: jsonlines in /usr/local/lib/python3.11/dist-packages (from voxel51-eta<0.15,>=0.14.3->fiftyone) (4.0.0)\n",
            "Requirement already satisfied: paramiko<4,>=3 in /usr/local/lib/python3.11/dist-packages (from voxel51-eta<0.15,>=0.14.3->fiftyone) (3.5.1)\n",
            "Requirement already satisfied: py7zr in /usr/local/lib/python3.11/dist-packages (from voxel51-eta<0.15,>=0.14.3->fiftyone) (1.0.0)\n",
            "Requirement already satisfied: rarfile in /usr/local/lib/python3.11/dist-packages (from voxel51-eta<0.15,>=0.14.3->fiftyone) (4.2)\n",
            "Requirement already satisfied: sortedcontainers in /usr/local/lib/python3.11/dist-packages (from voxel51-eta<0.15,>=0.14.3->fiftyone) (2.4.0)\n",
            "Requirement already satisfied: tzlocal in /usr/local/lib/python3.11/dist-packages (from voxel51-eta<0.15,>=0.14.3->fiftyone) (5.3.1)\n",
            "Requirement already satisfied: soupsieve>1.2 in /usr/local/lib/python3.11/dist-packages (from beautifulsoup4->fiftyone) (2.7)\n",
            "Requirement already satisfied: botocore<1.41.0,>=1.40.10 in /usr/local/lib/python3.11/dist-packages (from boto3->fiftyone) (1.40.10)\n",
            "Requirement already satisfied: jmespath<2.0.0,>=0.7.1 in /usr/local/lib/python3.11/dist-packages (from boto3->fiftyone) (1.0.1)\n",
            "Requirement already satisfied: s3transfer<0.14.0,>=0.13.0 in /usr/local/lib/python3.11/dist-packages (from boto3->fiftyone) (0.13.1)\n",
            "Requirement already satisfied: pyperclip>=1.3 in /usr/local/lib/python3.11/dist-packages (from clipboard->megadetector) (1.9.0)\n",
            "Requirement already satisfied: wrapt<2,>=1.10 in /usr/local/lib/python3.11/dist-packages (from Deprecated->fiftyone) (1.17.2)\n",
            "Requirement already satisfied: wcwidth in /usr/local/lib/python3.11/dist-packages (from ftfy->fiftyone) (0.2.13)\n",
            "Requirement already satisfied: huggingface-hub in /usr/local/lib/python3.11/dist-packages (from open-clip-torch->pybioclip) (0.34.4)\n",
            "Requirement already satisfied: safetensors in /usr/local/lib/python3.11/dist-packages (from open-clip-torch->pybioclip) (0.6.2)\n",
            "Requirement already satisfied: timm>=1.0.17 in /usr/local/lib/python3.11/dist-packages (from open-clip-torch->pybioclip) (1.0.19)\n",
            "Requirement already satisfied: iniconfig>=1 in /usr/local/lib/python3.11/dist-packages (from pytest->megadetector) (2.1.0)\n",
            "Requirement already satisfied: pluggy<2,>=1.5 in /usr/local/lib/python3.11/dist-packages (from pytest->megadetector) (1.6.0)\n",
            "Requirement already satisfied: pygments>=2.7.2 in /usr/local/lib/python3.11/dist-packages (from pytest->megadetector) (2.19.2)\n",
            "Requirement already satisfied: imageio!=2.35.0,>=2.33 in /usr/local/lib/python3.11/dist-packages (from scikit-image->fiftyone) (2.37.0)\n",
            "Requirement already satisfied: tifffile>=2022.8.12 in /usr/local/lib/python3.11/dist-packages (from scikit-image->fiftyone) (2025.6.11)\n",
            "Requirement already satisfied: lazy-loader>=0.4 in /usr/local/lib/python3.11/dist-packages (from scikit-image->fiftyone) (0.4)\n",
            "Requirement already satisfied: pydantic>=2.9.2 in /usr/local/lib/python3.11/dist-packages (from albumentations>=1.0.3->yolov9pip==0.0.4->megadetector) (2.11.7)\n",
            "Requirement already satisfied: albucore==0.0.24 in /usr/local/lib/python3.11/dist-packages (from albumentations>=1.0.3->yolov9pip==0.0.4->megadetector) (0.0.24)\n",
            "Requirement already satisfied: stringzilla>=3.10.4 in /usr/local/lib/python3.11/dist-packages (from albucore==0.0.24->albumentations>=1.0.3->yolov9pip==0.0.4->megadetector) (3.12.6)\n",
            "Requirement already satisfied: simsimd>=5.9.2 in /usr/local/lib/python3.11/dist-packages (from albucore==0.0.24->albumentations>=1.0.3->yolov9pip==0.0.4->megadetector) (6.5.0)\n",
            "Requirement already satisfied: sniffio>=1.1 in /usr/local/lib/python3.11/dist-packages (from anyio<5,>=3.6.2->starlette>=0.24.0->fiftyone) (1.3.1)\n",
            "Requirement already satisfied: simplejson>=3.19.3 in /usr/local/lib/python3.11/dist-packages (from choreographer>=1.0.5->kaleido!=0.2.1.post1->fiftyone) (3.20.1)\n",
            "Requirement already satisfied: hyperframe<7,>=6.1 in /usr/local/lib/python3.11/dist-packages (from h2>=3.1.0->hypercorn>=0.13.2->fiftyone) (6.1.0)\n",
            "Requirement already satisfied: hpack<5,>=4.1 in /usr/local/lib/python3.11/dist-packages (from h2>=3.1.0->hypercorn>=0.13.2->fiftyone) (4.1.0)\n",
            "Requirement already satisfied: httpcore==1.* in /usr/local/lib/python3.11/dist-packages (from httpx>=0.10.0->universal-analytics-python3<2,>=1.0.1->fiftyone) (1.0.9)\n",
            "Requirement already satisfied: bcrypt>=3.2 in /usr/local/lib/python3.11/dist-packages (from paramiko<4,>=3->voxel51-eta<0.15,>=0.14.3->fiftyone) (4.3.0)\n",
            "Requirement already satisfied: cryptography>=3.3 in /usr/local/lib/python3.11/dist-packages (from paramiko<4,>=3->voxel51-eta<0.15,>=0.14.3->fiftyone) (43.0.3)\n",
            "Requirement already satisfied: pynacl>=1.5 in /usr/local/lib/python3.11/dist-packages (from paramiko<4,>=3->voxel51-eta<0.15,>=0.14.3->fiftyone) (1.5.0)\n",
            "Requirement already satisfied: absl-py>=0.4 in /usr/local/lib/python3.11/dist-packages (from tensorboard>=2.4.1->ultralytics-yolov5==0.1.1->megadetector) (1.4.0)\n",
            "Requirement already satisfied: grpcio>=1.48.2 in /usr/local/lib/python3.11/dist-packages (from tensorboard>=2.4.1->ultralytics-yolov5==0.1.1->megadetector) (1.74.0)\n",
            "Requirement already satisfied: markdown>=2.6.8 in /usr/local/lib/python3.11/dist-packages (from tensorboard>=2.4.1->ultralytics-yolov5==0.1.1->megadetector) (3.8.2)\n",
            "Requirement already satisfied: tensorboard-data-server<0.8.0,>=0.7.0 in /usr/local/lib/python3.11/dist-packages (from tensorboard>=2.4.1->ultralytics-yolov5==0.1.1->megadetector) (0.7.2)\n",
            "Requirement already satisfied: werkzeug>=1.0.1 in /usr/local/lib/python3.11/dist-packages (from tensorboard>=2.4.1->ultralytics-yolov5==0.1.1->megadetector) (3.1.3)\n",
            "Requirement already satisfied: termcolor in /usr/local/lib/python3.11/dist-packages (from fire->ultralytics-yolov5==0.1.1->megadetector) (3.1.0)\n",
            "Requirement already satisfied: gitdb<5,>=4.0.1 in /usr/local/lib/python3.11/dist-packages (from gitpython->yolov9pip==0.0.4->megadetector) (4.0.12)\n",
            "Requirement already satisfied: hf-xet<2.0.0,>=1.1.3 in /usr/local/lib/python3.11/dist-packages (from huggingface-hub->open-clip-torch->pybioclip) (1.1.7)\n",
            "Requirement already satisfied: jedi>=0.16 in /usr/local/lib/python3.11/dist-packages (from ipython->ultralytics-yolov5==0.1.1->megadetector) (0.19.2)\n",
            "Requirement already satisfied: decorator in /usr/local/lib/python3.11/dist-packages (from ipython->ultralytics-yolov5==0.1.1->megadetector) (4.4.2)\n",
            "Requirement already satisfied: pickleshare in /usr/local/lib/python3.11/dist-packages (from ipython->ultralytics-yolov5==0.1.1->megadetector) (0.7.5)\n",
            "Requirement already satisfied: traitlets>=4.2 in /usr/local/lib/python3.11/dist-packages (from ipython->ultralytics-yolov5==0.1.1->megadetector) (5.7.1)\n",
            "Requirement already satisfied: prompt-toolkit!=3.0.0,!=3.0.1,<3.1.0,>=2.0.0 in /usr/local/lib/python3.11/dist-packages (from ipython->ultralytics-yolov5==0.1.1->megadetector) (3.0.51)\n",
            "Requirement already satisfied: backcall in /usr/local/lib/python3.11/dist-packages (from ipython->ultralytics-yolov5==0.1.1->megadetector) (0.2.0)\n",
            "Requirement already satisfied: matplotlib-inline in /usr/local/lib/python3.11/dist-packages (from ipython->ultralytics-yolov5==0.1.1->megadetector) (0.1.7)\n",
            "Requirement already satisfied: pexpect>4.3 in /usr/local/lib/python3.11/dist-packages (from ipython->ultralytics-yolov5==0.1.1->megadetector) (4.9.0)\n",
            "Requirement already satisfied: attrs>=19.2.0 in /usr/local/lib/python3.11/dist-packages (from jsonlines->voxel51-eta<0.15,>=0.14.3->fiftyone) (25.3.0)\n",
            "Requirement already satisfied: texttable in /usr/local/lib/python3.11/dist-packages (from py7zr->voxel51-eta<0.15,>=0.14.3->fiftyone) (1.7.0)\n",
            "Requirement already satisfied: pycryptodomex>=3.20.0 in /usr/local/lib/python3.11/dist-packages (from py7zr->voxel51-eta<0.15,>=0.14.3->fiftyone) (3.23.0)\n",
            "Requirement already satisfied: brotli>=1.1.0 in /usr/local/lib/python3.11/dist-packages (from py7zr->voxel51-eta<0.15,>=0.14.3->fiftyone) (1.1.0)\n",
            "Requirement already satisfied: pyzstd>=0.16.1 in /usr/local/lib/python3.11/dist-packages (from py7zr->voxel51-eta<0.15,>=0.14.3->fiftyone) (0.17.0)\n",
            "Requirement already satisfied: pyppmd<1.3.0,>=1.1.0 in /usr/local/lib/python3.11/dist-packages (from py7zr->voxel51-eta<0.15,>=0.14.3->fiftyone) (1.2.0)\n",
            "Requirement already satisfied: pybcj<1.1.0,>=1.0.0 in /usr/local/lib/python3.11/dist-packages (from py7zr->voxel51-eta<0.15,>=0.14.3->fiftyone) (1.0.6)\n",
            "Requirement already satisfied: multivolumefile>=0.2.3 in /usr/local/lib/python3.11/dist-packages (from py7zr->voxel51-eta<0.15,>=0.14.3->fiftyone) (0.2.3)\n",
            "Requirement already satisfied: inflate64<1.1.0,>=1.0.0 in /usr/local/lib/python3.11/dist-packages (from py7zr->voxel51-eta<0.15,>=0.14.3->fiftyone) (1.0.3)\n",
            "Requirement already satisfied: cffi>=1.12 in /usr/local/lib/python3.11/dist-packages (from cryptography>=3.3->paramiko<4,>=3->voxel51-eta<0.15,>=0.14.3->fiftyone) (1.17.1)\n",
            "Requirement already satisfied: smmap<6,>=3.0.1 in /usr/local/lib/python3.11/dist-packages (from gitdb<5,>=4.0.1->gitpython->yolov9pip==0.0.4->megadetector) (5.0.2)\n",
            "Requirement already satisfied: parso<0.9.0,>=0.8.4 in /usr/local/lib/python3.11/dist-packages (from jedi>=0.16->ipython->ultralytics-yolov5==0.1.1->megadetector) (0.8.4)\n",
            "Requirement already satisfied: ptyprocess>=0.5 in /usr/local/lib/python3.11/dist-packages (from pexpect>4.3->ipython->ultralytics-yolov5==0.1.1->megadetector) (0.7.0)\n",
            "Requirement already satisfied: annotated-types>=0.6.0 in /usr/local/lib/python3.11/dist-packages (from pydantic>=2.9.2->albumentations>=1.0.3->yolov9pip==0.0.4->megadetector) (0.7.0)\n",
            "Requirement already satisfied: pydantic-core==2.33.2 in /usr/local/lib/python3.11/dist-packages (from pydantic>=2.9.2->albumentations>=1.0.3->yolov9pip==0.0.4->megadetector) (2.33.2)\n",
            "Requirement already satisfied: typing-inspection>=0.4.0 in /usr/local/lib/python3.11/dist-packages (from pydantic>=2.9.2->albumentations>=1.0.3->yolov9pip==0.0.4->megadetector) (0.4.1)\n",
            "Requirement already satisfied: pycparser in /usr/local/lib/python3.11/dist-packages (from cffi>=1.12->cryptography>=3.3->paramiko<4,>=3->voxel51-eta<0.15,>=0.14.3->fiftyone) (2.22)\n",
            "Downloading pybioclip-2.0.0-py3-none-any.whl (16 kB)\n",
            "Downloading open_clip_torch-3.1.0-py3-none-any.whl (1.5 MB)\n",
            "\u001b[2K   \u001b[90m━━━━━━━━━━━━━━━━━━━━━━━━━━━━━━━━━━━━━━━━\u001b[0m \u001b[32m1.5/1.5 MB\u001b[0m \u001b[31m31.2 MB/s\u001b[0m eta \u001b[36m0:00:00\u001b[0m\n",
            "\u001b[?25hInstalling collected packages: open-clip-torch, pybioclip\n",
            "Successfully installed open-clip-torch-3.1.0 pybioclip-2.0.0\n"
          ]
        }
      ]
    },
    {
      "cell_type": "markdown",
      "source": [],
      "metadata": {
        "id": "GxpoABxUY3b_"
      }
    },
    {
      "cell_type": "code",
      "source": [
        "import os\n",
        "from google.colab import drive\n",
        "import fiftyone as fo\n",
        "from megadetector.utils import url_utils\n",
        "from megadetector.visualization import visualization_utils as vis_utils\n",
        "from megadetector.detection import run_detector\n",
        "import pandas as pd\n",
        "import numpy as np\n",
        "import torch\n",
        "from torchvision.ops import nms\n",
        "from bioclip import CustomLabelsClassifier, CustomLabelsBinningClassifier, TreeOfLifeClassifier, Rank\n"
      ],
      "metadata": {
        "id": "F3llN93nao5r"
      },
      "execution_count": 27,
      "outputs": []
    },
    {
      "cell_type": "code",
      "source": [
        "# Mount your data that is in google drive\n",
        "drive.mount('/content/drive')\n",
        "# os.listdir('/content/drive/MyDrive')"
      ],
      "metadata": {
        "colab": {
          "base_uri": "https://localhost:8080/"
        },
        "id": "wL5MzNyLHdCD",
        "outputId": "6885dd19-0084-459c-c07a-63c2be334ee4"
      },
      "execution_count": 4,
      "outputs": [
        {
          "output_type": "stream",
          "name": "stdout",
          "text": [
            "Drive already mounted at /content/drive; to attempt to forcibly remount, call drive.mount(\"/content/drive\", force_remount=True).\n"
          ]
        },
        {
          "output_type": "execute_result",
          "data": {
            "text/plain": [
              "['Colab Notebooks',\n",
              " 'Forensics.gdoc',\n",
              " 'Attempt 2.wlmp',\n",
              " 'Christianity.gdoc',\n",
              " 'Philosphy Paper.docx',\n",
              " 'Film as Literature Final.gdoc',\n",
              " 'The erotes are a group of winged gods in Classical mythology.docx',\n",
              " 'My Saved Places.gmap',\n",
              " 'I-9 and instructions - 2015.pdf',\n",
              " 'Cambodia Essay.gdoc',\n",
              " 'Untitled document (7).gdoc',\n",
              " 'Untitled document (6).gdoc',\n",
              " 'Mini Trail Guide Brainstorm.gdoc',\n",
              " 'Camping gear and locations.gdoc',\n",
              " 'NZ.xlsx',\n",
              " 'Important Documents',\n",
              " 'Whanganui.gsheet',\n",
              " 'Break plan.gsheet',\n",
              " 'NZ.gsheet',\n",
              " 'Potential Research Locations.gmap',\n",
              " '20190827161612851.pdf',\n",
              " 'collections.pdf',\n",
              " 'Summer break plans.gsheet',\n",
              " 'Summer break budget.gsheet',\n",
              " 'BasicThesis.nlogo',\n",
              " 'IMG_3345.JPG',\n",
              " 'IMG_3341.JPG',\n",
              " 'IMG_3344.JPG',\n",
              " 'IMG_3338.JPG',\n",
              " 'IMG_3350.JPG',\n",
              " 'IMG_3337.JPG',\n",
              " 'IMG_3348.JPG',\n",
              " 'IMG_3346.JPG',\n",
              " 'IMG_3347.JPG',\n",
              " 'IMG_3335.JPG',\n",
              " 'IMG_3340.JPG',\n",
              " 'IMG_3343.JPG',\n",
              " 'IMG_3342.JPG',\n",
              " 'IMG_3339.JPG',\n",
              " 'IMG_2977.JPG',\n",
              " 'IMG_3353.JPG',\n",
              " 'IMG_3336.JPG',\n",
              " 'IMG_3334.JPG',\n",
              " 'IMG_3349.JPG',\n",
              " 'IMG_3351.JPG',\n",
              " 'Unknown World, First Contact',\n",
              " 'Fiasco: The Ice.gsheet',\n",
              " 'Untitled document (5).gdoc',\n",
              " 'Wilderness First Aid Fun Day!.gform',\n",
              " 'Untitled document (4).gdoc',\n",
              " 'ass3s-250-2020 (2).pdf',\n",
              " 'Subtle_Lines_Cardigan_-_Publish.pdf',\n",
              " 'Contact_notes.pdf',\n",
              " \"Jimmy and Riley's adventure.gsheet\",\n",
              " 'Riley itinerary.docx',\n",
              " 'Center for Academic Resources Tasks-by-month.gdoc',\n",
              " 'Knoedler_ExperienceLog.pdf',\n",
              " 'Knoedler_CoverLetter._InspiringGirls.pdf',\n",
              " 'Knoedler_CV__InspiringGirls.pdf',\n",
              " 'Riley Knoedler Trip Report.gdoc',\n",
              " 'Girls on Rock 2022 Interacting with Youth Policy.pdf',\n",
              " 'Tabby_Documents.pdf',\n",
              " 'Girls on Rock 2022 Feedback.gform',\n",
              " 'Girls on Rock 2022 Feedback (Responses).gsheet',\n",
              " 'GOR-rappeller-start.jpeg',\n",
              " 'GOR 2022 Photos',\n",
              " 'Rough travel plan.pdf',\n",
              " 'GOR 2022 Quick Itinerary.gdoc',\n",
              " 'Untitled spreadsheet (9).gsheet',\n",
              " 'Jacob and Riley Wedding Planner.gsheet',\n",
              " 'Untitled spreadsheet (8).gsheet',\n",
              " 'Untitled spreadsheet (7).gsheet',\n",
              " 'HSA',\n",
              " 'Untitled spreadsheet (6).gsheet',\n",
              " 'Untitled document (3).gdoc',\n",
              " 'Milan',\n",
              " 'Untitled spreadsheet (5).gsheet',\n",
              " 'Molly-Knoedler-1347731784.pdf',\n",
              " 'Boarding_Pass_BA0218_DEN_LHR_209.pdf',\n",
              " 'Untitled document (2).gdoc',\n",
              " 'Untitled spreadsheet (4).gsheet',\n",
              " '005186452.pdf',\n",
              " 'IMG_5956.JPG',\n",
              " 'Untitled spreadsheet (3).gsheet',\n",
              " 'Trip tracking.gsheet',\n",
              " 'HDHPvPPO.xlsx',\n",
              " 'New Zealand Planning.gsheet',\n",
              " '45_Gmail - Fwd_ ORTHOPAEDIC & SPINE CENTER OF THE ROCKIES Transaction Receipt.pdf',\n",
              " 'Colab',\n",
              " 'payment-receipt-6616fa6a070609529e07a623.pdf',\n",
              " 'Untitled spreadsheet (2).gsheet',\n",
              " 'MAICsys_MEL00000814663_New_20240522T193305.pdf',\n",
              " 'Family Ledger with Patient Ledgers 1 of 4.jpg',\n",
              " 'guest-list (2).csv',\n",
              " 'Untitled document (1).gdoc',\n",
              " 'Notes for caterer.gdoc',\n",
              " 'Wedding Binder.gdoc',\n",
              " 'image3.jpeg',\n",
              " 'tattoo idea.png',\n",
              " 'Dental PPO 1000_Pricing Plan.png',\n",
              " 'paul-klee-sweater-en-ver-1-0.pdf',\n",
              " 'Marseille to Lyon.gdoc',\n",
              " 'Payroll Remittance Advice.pdf',\n",
              " '1304 Laporte lease 2024-2025 .pdf',\n",
              " 'Lease 2024_2025.gdoc',\n",
              " 'IMG_6560.HEIC',\n",
              " 'IMG_6573.heic',\n",
              " 'IMG_6541.HEIC',\n",
              " 'IMG_6555.HEIC',\n",
              " 'IMG_6557.HEIC',\n",
              " 'IMG_6554.HEIC',\n",
              " 'IMG_6550.HEIC',\n",
              " 'IMG_6564.HEIC',\n",
              " 'IMG_6542.HEIC',\n",
              " 'IMG_6543.HEIC',\n",
              " 'IMG_6563.HEIC',\n",
              " 'IMG_6556.HEIC',\n",
              " 'IMG_6592.HEIC',\n",
              " 'IMG_6547.HEIC',\n",
              " 'IMG_6552.HEIC',\n",
              " 'IMG_6546.HEIC',\n",
              " 'IMG_6551.HEIC',\n",
              " 'IMG_6540.HEIC',\n",
              " 'IMG_6568.HEIC',\n",
              " 'IMG_6549.HEIC',\n",
              " 'IMG_6565.HEIC',\n",
              " 'IMG_6548.HEIC',\n",
              " 'IMG_6559.HEIC',\n",
              " 'IMG_6569.HEIC',\n",
              " 'IMG_6562.HEIC',\n",
              " 'IMG_6561.HEIC',\n",
              " 'IMG_6558.HEIC',\n",
              " 'IMG_6544.HEIC',\n",
              " 'IMG_6580.HEIC',\n",
              " 'IMG_6545.HEIC',\n",
              " 'IMG_6567.HEIC',\n",
              " 'IMG_6566.HEIC',\n",
              " 'Barcelona to Geneva.gsheet',\n",
              " 'Annual budget.gsheet',\n",
              " 'Untitled spreadsheet (1).gsheet',\n",
              " 'Short stories.gdoc',\n",
              " 'France Travel Details.gdoc',\n",
              " 'comp64257561.pdf',\n",
              " 'Wedding Planning Info Sheet.gsheet',\n",
              " 'Jacob Business Records',\n",
              " 'MollyRileyKnoedler_Bibliography.pdf',\n",
              " 'MollyRileyKnoedler_CV.pdf',\n",
              " 'MollyRileyKnoedler_Visuals.pdf',\n",
              " 'MollyRileyKnoedler_Budget.xlsx',\n",
              " 'MollyRileyKnoedler_ProjectPlan.xlsx',\n",
              " 'Jacob Stark Cover Letter.gdoc',\n",
              " '824 Coulter - Listing.pdf',\n",
              " 'Annual Maintenance Checklist.gsheet',\n",
              " 'AHIT-The-Only-Home-Maintenance-Checklist-You-Will-Ever-Need.pdf',\n",
              " 'AHIT-The-Only-Home-Maintenance-Checklist-You-Will-Ever-Need.gdoc',\n",
              " 'Untitled document.gdoc',\n",
              " 'Untitled spreadsheet.gsheet',\n",
              " 'Boundary Waters Packing.gsheet',\n",
              " 'Riley and Jacob Amortization Schedule.gsheet',\n",
              " 'Maintenance Checklist.gsheet',\n",
              " 'Home upgrade resources.gdoc',\n",
              " 'Credit Cards.gsheet',\n",
              " 'Budget.gsheet',\n",
              " 'example_images']"
            ]
          },
          "metadata": {},
          "execution_count": 4
        }
      ]
    },
    {
      "cell_type": "code",
      "source": [
        "# Create a fiftyone dataset\n",
        "name = 'myDataset'\n",
        "dir = '/content/drive/MyDrive/example_images/'\n",
        "if fo.dataset_exists(name):\n",
        "  dataset = fo.load_dataset(name)\n",
        "else:\n",
        "  dataset = fo.Dataset.from_images_dir(dir)\n",
        "  dataset.name = name\n",
        "  dataset.compute_metadata()\n",
        "  dataset.save()\n"
      ],
      "metadata": {
        "colab": {
          "base_uri": "https://localhost:8080/"
        },
        "id": "GM5mQ1Auaow0",
        "outputId": "fe4c4851-e800-445e-db09-5628a919986c"
      },
      "execution_count": 5,
      "outputs": [
        {
          "output_type": "stream",
          "name": "stdout",
          "text": [
            " 100% |███████████████████| 10/10 [28.0ms elapsed, 0s remaining, 357.8 samples/s]     \n"
          ]
        },
        {
          "output_type": "stream",
          "name": "stderr",
          "text": [
            "INFO:eta.core.utils: 100% |███████████████████| 10/10 [28.0ms elapsed, 0s remaining, 357.8 samples/s]     \n"
          ]
        },
        {
          "output_type": "stream",
          "name": "stdout",
          "text": [
            "Computing metadata...\n"
          ]
        },
        {
          "output_type": "stream",
          "name": "stderr",
          "text": [
            "INFO:fiftyone.core.metadata:Computing metadata...\n"
          ]
        },
        {
          "output_type": "stream",
          "name": "stdout",
          "text": [
            " 100% |███████████████████| 10/10 [1.9s elapsed, 0s remaining, 5.3 samples/s]      \n"
          ]
        },
        {
          "output_type": "stream",
          "name": "stderr",
          "text": [
            "INFO:eta.core.utils: 100% |███████████████████| 10/10 [1.9s elapsed, 0s remaining, 5.3 samples/s]      \n"
          ]
        }
      ]
    },
    {
      "cell_type": "code",
      "source": [
        "# Prepare detection model\n",
        "md_model = run_detector.load_detector('MDV5A')  # Automatically downloads model weights\n",
        "md_model_name = \"MegaDet\"\n",
        "md_class_map = {\n",
        "    \"1\": \"animal\",\n",
        "    \"2\": \"human\",\n",
        "    \"3\": \"vehicle\"\n",
        "}\n",
        "# Enter option 3"
      ],
      "metadata": {
        "colab": {
          "base_uri": "https://localhost:8080/"
        },
        "id": "Fw5FGkUOFO6N",
        "outputId": "eb15b4a7-2e9b-4657-fa47-c54e4d99f4bf"
      },
      "execution_count": 26,
      "outputs": [
        {
          "output_type": "stream",
          "name": "stdout",
          "text": [
            "Model v5a.0.1 already exists and is valid at /tmp/megadetector_models/md_v5a.0.1.pt\n",
            "Bypassing imports for model type yolov5\n",
            "Loading PT detector with compatibility mode classic\n",
            "Loaded image size 1280 from model metadata\n",
            "Using model stride: 64\n"
          ]
        },
        {
          "output_type": "stream",
          "name": "stderr",
          "text": [
            "INFO:yolov5:Fusing layers... \n",
            "Fusing layers... \n",
            "Fusing layers... \n",
            "INFO:yolov5:Model summary: 733 layers, 140054656 parameters, 0 gradients, 208.8 GFLOPs\n",
            "Model summary: 733 layers, 140054656 parameters, 0 gradients, 208.8 GFLOPs\n",
            "Model summary: 733 layers, 140054656 parameters, 0 gradients, 208.8 GFLOPs\n"
          ]
        }
      ]
    },
    {
      "cell_type": "code",
      "source": [
        "# Prepare classification model\n",
        "#classes format... \"models_prompt\": \"class_name\"\n",
        "# model_device = \"cuda:0\" # If you are on a GPU runtime\n",
        "model_device = \"cpu\" # If you are on a non-GPU runtime, MUCH SLOWER\n",
        "classes = {\n",
        "\t\"elk\": \"ungulate\",\n",
        "\t\"moose\": \"ungulate\",\n",
        "\t\"dog\": \"canine\",\n",
        "\t\"wolf\": \"canine\",\n",
        "  \"human\": \"human\"\n",
        "}\n",
        "bc_model = CustomLabelsBinningClassifier(classes, device=model_device)\n",
        "# bc_model = TreeOfLifeClassifier(device=model_device)\n",
        "bc_model_name = \"bioclip\""
      ],
      "metadata": {
        "colab": {
          "base_uri": "https://localhost:8080/"
        },
        "id": "AogWIAHLRnzd",
        "outputId": "38b73df4-82e2-4036-d2ef-39cd6a41bc7b"
      },
      "execution_count": 29,
      "outputs": [
        {
          "output_type": "stream",
          "name": "stderr",
          "text": [
            "INFO:root:Parsing model identifier. Schema: hf-hub, Identifier: imageomics/bioclip-2\n",
            "Parsing model identifier. Schema: hf-hub, Identifier: imageomics/bioclip-2\n",
            "Parsing model identifier. Schema: hf-hub, Identifier: imageomics/bioclip-2\n",
            "INFO:root:Attempting to load config from HF Hub: imageomics/bioclip-2\n",
            "Attempting to load config from HF Hub: imageomics/bioclip-2\n",
            "Attempting to load config from HF Hub: imageomics/bioclip-2\n",
            "INFO:root:Loaded model config from HF Hub: imageomics/bioclip-2\n",
            "Loaded model config from HF Hub: imageomics/bioclip-2\n",
            "Loaded model config from HF Hub: imageomics/bioclip-2\n",
            "INFO:root:Found default weights file on HF Hub: /root/.cache/huggingface/hub/models--imageomics--bioclip-2/snapshots/df00ae6ffea92819f318258352712c8cc3d1d5b3/open_clip_model.safetensors\n",
            "Found default weights file on HF Hub: /root/.cache/huggingface/hub/models--imageomics--bioclip-2/snapshots/df00ae6ffea92819f318258352712c8cc3d1d5b3/open_clip_model.safetensors\n",
            "Found default weights file on HF Hub: /root/.cache/huggingface/hub/models--imageomics--bioclip-2/snapshots/df00ae6ffea92819f318258352712c8cc3d1d5b3/open_clip_model.safetensors\n",
            "INFO:root:Instantiating model architecture: CLIP\n",
            "Instantiating model architecture: CLIP\n",
            "Instantiating model architecture: CLIP\n",
            "INFO:root:Loading full pretrained weights from: /root/.cache/huggingface/hub/models--imageomics--bioclip-2/snapshots/df00ae6ffea92819f318258352712c8cc3d1d5b3/open_clip_model.safetensors\n",
            "Loading full pretrained weights from: /root/.cache/huggingface/hub/models--imageomics--bioclip-2/snapshots/df00ae6ffea92819f318258352712c8cc3d1d5b3/open_clip_model.safetensors\n",
            "Loading full pretrained weights from: /root/.cache/huggingface/hub/models--imageomics--bioclip-2/snapshots/df00ae6ffea92819f318258352712c8cc3d1d5b3/open_clip_model.safetensors\n",
            "INFO:root:Final image preprocessing configuration set: {'size': (224, 224), 'mode': 'RGB', 'mean': [0.48145466, 0.4578275, 0.40821073], 'std': [0.26862954, 0.26130258, 0.27577711], 'interpolation': 'bicubic', 'resize_mode': 'shortest', 'fill_color': 0}\n",
            "Final image preprocessing configuration set: {'size': (224, 224), 'mode': 'RGB', 'mean': [0.48145466, 0.4578275, 0.40821073], 'std': [0.26862954, 0.26130258, 0.27577711], 'interpolation': 'bicubic', 'resize_mode': 'shortest', 'fill_color': 0}\n",
            "Final image preprocessing configuration set: {'size': (224, 224), 'mode': 'RGB', 'mean': [0.48145466, 0.4578275, 0.40821073], 'std': [0.26862954, 0.26130258, 0.27577711], 'interpolation': 'bicubic', 'resize_mode': 'shortest', 'fill_color': 0}\n",
            "INFO:root:Model hf-hub:imageomics/bioclip-2 creation process complete.\n",
            "Model hf-hub:imageomics/bioclip-2 creation process complete.\n",
            "Model hf-hub:imageomics/bioclip-2 creation process complete.\n",
            "INFO:root:Parsing tokenizer identifier. Schema: hf-hub, Identifier: imageomics/bioclip-2\n",
            "Parsing tokenizer identifier. Schema: hf-hub, Identifier: imageomics/bioclip-2\n",
            "Parsing tokenizer identifier. Schema: hf-hub, Identifier: imageomics/bioclip-2\n",
            "INFO:root:Attempting to load config from hf-hub:imageomics/bioclip-2\n",
            "Attempting to load config from hf-hub:imageomics/bioclip-2\n",
            "Attempting to load config from hf-hub:imageomics/bioclip-2\n",
            "INFO:root:Using default SimpleTokenizer.\n",
            "Using default SimpleTokenizer.\n",
            "Using default SimpleTokenizer.\n"
          ]
        }
      ]
    },
    {
      "cell_type": "code",
      "source": [
        "results = []\n",
        "for sample in dataset.iter_samples(progress = True, autosave = True):\n",
        "  # Load the sample\n",
        "  img = vis_utils.load_image(sample.filepath)\n",
        "  img_w = sample.metadata['width']\n",
        "  img_h = sample.metadata['height']\n",
        "  # Run MegaDetector\n",
        "  md_pred = md_model.generate_detections_one_image(img, detection_threshold=0.1)\n",
        "  # Convert detections to the format expected by NMS\n",
        "  boxes = [d['bbox'] for d in md_pred['detections']]\n",
        "  scores = [d['conf'] for d in md_pred['detections']]\n",
        "  boxes_tensor = torch.tensor(boxes)\n",
        "  scores_tensor = torch.tensor(scores)\n",
        "  # Convert boxes to [x1, y1, x2, y2] format\n",
        "  boxes_xyxy = torch.tensor([[x, y, x + w, y + h] for x, y, w, h in boxes])\n",
        "  keep = nms(boxes_xyxy, scores_tensor, iou_threshold=0.3)\n",
        "  filtered_detections = [md_pred['detections'][i] for i in keep]\n",
        "  md_detections = []\n",
        "  bc_classifications = []\n",
        "  for det in filtered_detections:\n",
        "      md_detections.append(\n",
        "          fo.Detection(\n",
        "            label=md_class_map[det['category']],\n",
        "            bounding_box=det['bbox'],\n",
        "            confidence=det[\"conf\"],\n",
        "        )\n",
        "      )\n",
        "      # Get the cropped detection\n",
        "      x, y, w, h = det['bbox']\n",
        "      xmin, xmax = int(np.floor(img_w * x)), int(np.ceil(img_w * (x + w)))\n",
        "      ymin, ymax = int(np.floor(img_h * y)), int(np.ceil(img_h * (y + h)))\n",
        "      det_crop = img.crop((xmin, ymin, xmax, ymax))\n",
        "      # Classify the cropped detection with BioCLIP\n",
        "      bc_preds = bc_model.predict([det_crop], k=1)\n",
        "      # IF USING THE FULL TREE OF LIFE\n",
        "      # bc_preds = bc_model.predict([det_crop], rank=Rank.SPECIES, k = 1)\n",
        "      # Save the classification as a detection overlapping with\n",
        "      # the MegaDetector detection\n",
        "      bc_classifications.append(\n",
        "        fo.Detection(\n",
        "          label=bc_preds[0]['classification'],\n",
        "          bounding_box=det['bbox'],\n",
        "          confidence=bc_preds[0][\"score\"],\n",
        "        )\n",
        "      )\n",
        "  sample[md_model_name] = fo.Detections(detections=md_detections)\n",
        "  sample[bc_model_name] = fo.Detections(detections=bc_classifications)\n"
      ],
      "metadata": {
        "colab": {
          "base_uri": "https://localhost:8080/"
        },
        "id": "GX5owWk_IKhk",
        "outputId": "2c2c1fd2-d124-43be-e76b-5d64ad17fd9d"
      },
      "execution_count": 34,
      "outputs": [
        {
          "output_type": "stream",
          "name": "stdout",
          "text": [
            "   0% ||------------------|  0/10 [13.3ms elapsed, ? remaining, ? samples/s] "
          ]
        },
        {
          "output_type": "stream",
          "name": "stderr",
          "text": [
            "100%|██████████| 1/1 [00:08<00:00,  8.09s/images]\n",
            "100%|██████████| 1/1 [00:04<00:00,  4.30s/images]\n",
            "100%|██████████| 1/1 [00:03<00:00,  3.57s/images]"
          ]
        },
        {
          "output_type": "stream",
          "name": "stdout",
          "text": [
            "  10% |█/-----------------|  1/10 [31.9s elapsed, 4.8m remaining, 0.0 samples/s] "
          ]
        },
        {
          "output_type": "stream",
          "name": "stderr",
          "text": [
            "\n",
            "100%|██████████| 1/1 [00:05<00:00,  5.45s/images]\n",
            "100%|██████████| 1/1 [00:04<00:00,  4.18s/images]\n",
            "100%|██████████| 1/1 [00:04<00:00,  4.39s/images]"
          ]
        },
        {
          "output_type": "stream",
          "name": "stdout",
          "text": [
            "  20% |███----------------|  2/10 [1.1m elapsed, 4.2m remaining, 0.0 samples/s]  "
          ]
        },
        {
          "output_type": "stream",
          "name": "stderr",
          "text": [
            "\n",
            "100%|██████████| 1/1 [00:03<00:00,  3.96s/images]\n",
            "100%|██████████| 1/1 [00:04<00:00,  4.99s/images]\n",
            "100%|██████████| 1/1 [00:03<00:00,  3.14s/images]\n",
            "100%|██████████| 1/1 [00:03<00:00,  3.14s/images]"
          ]
        },
        {
          "output_type": "stream",
          "name": "stdout",
          "text": [
            "  30% |█████\\-------------|  3/10 [1.6m elapsed, 3.7m remaining, 0.0 samples/s]  "
          ]
        },
        {
          "output_type": "stream",
          "name": "stderr",
          "text": [
            "\n",
            "100%|██████████| 1/1 [00:03<00:00,  3.13s/images]"
          ]
        },
        {
          "output_type": "stream",
          "name": "stdout",
          "text": [
            "  40% |███████|-----------|  4/10 [1.9m elapsed, 2.8m remaining, 0.0 samples/s]  "
          ]
        },
        {
          "output_type": "stream",
          "name": "stderr",
          "text": [
            "\n",
            "100%|██████████| 1/1 [00:03<00:00,  3.13s/images]"
          ]
        },
        {
          "output_type": "stream",
          "name": "stdout",
          "text": [
            "  50% |█████████/---------|  5/10 [2.2m elapsed, 2.2m remaining, 0.0 samples/s]  "
          ]
        },
        {
          "output_type": "stream",
          "name": "stderr",
          "text": [
            "\n",
            "100%|██████████| 1/1 [00:03<00:00,  3.11s/images]\n",
            "100%|██████████| 1/1 [00:03<00:00,  3.42s/images]\n",
            "100%|██████████| 1/1 [00:05<00:00,  5.03s/images]"
          ]
        },
        {
          "output_type": "stream",
          "name": "stdout",
          "text": [
            "  60% |███████████--------|  6/10 [2.6m elapsed, 1.7m remaining, 0.0 samples/s]  "
          ]
        },
        {
          "output_type": "stream",
          "name": "stderr",
          "text": [
            "\n",
            "100%|██████████| 1/1 [00:03<00:00,  3.64s/images]\n",
            "100%|██████████| 1/1 [00:03<00:00,  3.14s/images]"
          ]
        },
        {
          "output_type": "stream",
          "name": "stdout",
          "text": [
            "  70% |█████████████\\-----|  7/10 [3.0m elapsed, 1.3m remaining, 0.0 samples/s]  "
          ]
        },
        {
          "output_type": "stream",
          "name": "stderr",
          "text": [
            "\n",
            "100%|██████████| 1/1 [00:03<00:00,  3.15s/images]\n",
            "100%|██████████| 1/1 [00:03<00:00,  3.13s/images]\n",
            "100%|██████████| 1/1 [00:04<00:00,  4.91s/images]\n",
            "100%|██████████| 1/1 [00:03<00:00,  3.94s/images]\n",
            "100%|██████████| 1/1 [00:03<00:00,  3.14s/images]\n",
            "100%|██████████| 1/1 [00:03<00:00,  3.10s/images]\n",
            "100%|██████████| 1/1 [00:03<00:00,  3.72s/images]\n",
            "100%|██████████| 1/1 [00:05<00:00,  5.04s/images]\n",
            "100%|██████████| 1/1 [00:03<00:00,  3.58s/images]\n",
            "100%|██████████| 1/1 [00:03<00:00,  3.47s/images]"
          ]
        },
        {
          "output_type": "stream",
          "name": "stdout",
          "text": [
            "  80% |███████████████|---|  8/10 [3.9m elapsed, 58.0s remaining, 0.0 samples/s] "
          ]
        },
        {
          "output_type": "stream",
          "name": "stderr",
          "text": [
            "\n",
            "100%|██████████| 1/1 [00:03<00:00,  3.29s/images]\n",
            "100%|██████████| 1/1 [00:03<00:00,  3.71s/images]\n",
            "100%|██████████| 1/1 [00:05<00:00,  5.09s/images]\n",
            "100%|██████████| 1/1 [00:03<00:00,  3.30s/images]\n",
            "100%|██████████| 1/1 [00:03<00:00,  3.16s/images]\n",
            "100%|██████████| 1/1 [00:03<00:00,  3.13s/images]\n",
            "100%|██████████| 1/1 [00:04<00:00,  4.46s/images]\n",
            "100%|██████████| 1/1 [00:05<00:00,  5.43s/images]\n",
            "100%|██████████| 1/1 [00:03<00:00,  3.15s/images]"
          ]
        },
        {
          "output_type": "stream",
          "name": "stdout",
          "text": [
            "  90% |█████████████████/-|  9/10 [4.7m elapsed, 31.5s remaining, 0.0 samples/s] "
          ]
        },
        {
          "output_type": "stream",
          "name": "stderr",
          "text": [
            "\n",
            "100%|██████████| 1/1 [00:03<00:00,  3.18s/images]\n",
            "100%|██████████| 1/1 [00:03<00:00,  3.13s/images]"
          ]
        },
        {
          "output_type": "stream",
          "name": "stdout",
          "text": [
            " 100% |███████████████████| 10/10 [5.1m elapsed, 0s remaining, 0.0 samples/s]    \n"
          ]
        },
        {
          "output_type": "stream",
          "name": "stderr",
          "text": [
            "\n",
            "INFO:eta.core.utils: 100% |███████████████████| 10/10 [5.1m elapsed, 0s remaining, 0.0 samples/s]    \n",
            " 100% |███████████████████| 10/10 [5.1m elapsed, 0s remaining, 0.0 samples/s]    \n",
            " 100% |███████████████████| 10/10 [5.1m elapsed, 0s remaining, 0.0 samples/s]    \n"
          ]
        }
      ]
    },
    {
      "cell_type": "code",
      "source": [
        "session = fo.launch_app(dataset, remote=False, port=1122)"
      ],
      "metadata": {
        "colab": {
          "base_uri": "https://localhost:8080/",
          "height": 804
        },
        "id": "JVGATFRgInWd",
        "outputId": "70008440-2d6f-4747-9b03-2cc11adaf60c"
      },
      "execution_count": 36,
      "outputs": [
        {
          "output_type": "display_data",
          "data": {
            "text/plain": [
              "<IPython.core.display.HTML object>"
            ],
            "text/html": [
              "\n",
              "<style>\n",
              "\n",
              "@import url(\"https://fonts.googleapis.com/css2?family=Palanquin&display=swap\");\n",
              "\n",
              "body, html {\n",
              "  margin: 0;\n",
              "  padding: 0;\n",
              "  width: 100%;\n",
              "}\n",
              "\n",
              "#focontainer-f5cdb6e3-221c-4d9f-91c5-2e9b13113fac {\n",
              "  position: relative;\n",
              "  height: px;\n",
              "  display: block !important;\n",
              "}\n",
              "#foactivate-f5cdb6e3-221c-4d9f-91c5-2e9b13113fac {\n",
              "  font-weight: bold;\n",
              "  cursor: pointer;\n",
              "  font-size: 24px;\n",
              "  border-radius: 3px;\n",
              "  text-align: center;\n",
              "  padding: 0.5em;\n",
              "  color: rgb(255, 255, 255);\n",
              "  font-family: \"Palanquin\", sans-serif;\n",
              "  position: absolute;\n",
              "  left: 50%;\n",
              "  top: 50%;\n",
              "  width: 160px;\n",
              "  margin-left: -80px;\n",
              "  margin-top: -23px;\n",
              "  background: hsla(210,11%,15%, 0.8);\n",
              "  border: none;\n",
              "}\n",
              "#foactivate-f5cdb6e3-221c-4d9f-91c5-2e9b13113fac:focus {\n",
              "  outline: none;\n",
              "}\n",
              "#fooverlay-f5cdb6e3-221c-4d9f-91c5-2e9b13113fac {\n",
              "  width: 100%;\n",
              "  height: 100%;\n",
              "  background: hsla(208, 7%, 46%, 0.7);\n",
              "  position: absolute;\n",
              "  top: 0;\n",
              "  left: 0;\n",
              "  display: none;\n",
              "  cursor: pointer;\n",
              "}\n",
              "</style>\n",
              "<div id=\"focontainer-f5cdb6e3-221c-4d9f-91c5-2e9b13113fac\" style=\"display: none;\">\n",
              "   <div id=\"fooverlay-f5cdb6e3-221c-4d9f-91c5-2e9b13113fac\">\n",
              "      <button id=\"foactivate-f5cdb6e3-221c-4d9f-91c5-2e9b13113fac\" >Activate</button>\n",
              "   </div>\n",
              "</div>"
            ]
          },
          "metadata": {}
        }
      ]
    },
    {
      "cell_type": "code",
      "source": [
        "results = []\n",
        "for sample in dataset.iter_samples(progress = True, autosave = True):\n",
        "  for field in [md_model_name, bc_model_name]:\n",
        "    if sample[field] is not None:\n",
        "      for det in sample[field].detections:\n",
        "        results.append([\n",
        "          sample.filepath,\n",
        "          field,\n",
        "          det.label,\n",
        "          det.confidence,\n",
        "          det.bounding_box[0],\n",
        "          det.bounding_box[1],\n",
        "          det.bounding_box[2],\n",
        "          det.bounding_box[3]\n",
        "        ])\n",
        "dataframe = pd.DataFrame(\n",
        "    results,\n",
        "    columns=[\n",
        "        'filepath',\n",
        "        'model',\n",
        "        'category',\n",
        "        'confidence',\n",
        "        'xmin',\n",
        "        'ymin',\n",
        "        'xmax',\n",
        "        'ymax'\n",
        "    ]\n",
        ")\n",
        "print(dataframe)\n",
        "dataframe.to_csv(\"demo_output/batch_output.csv\", index = False)"
      ],
      "metadata": {
        "colab": {
          "base_uri": "https://localhost:8080/",
          "height": 211
        },
        "id": "5JExGWznFnyV",
        "outputId": "d661a444-616f-4f66-f6bc-bdaef0f0ed9d"
      },
      "execution_count": 1,
      "outputs": [
        {
          "output_type": "error",
          "ename": "NameError",
          "evalue": "name 'url_utils' is not defined",
          "traceback": [
            "\u001b[0;31m---------------------------------------------------------------------------\u001b[0m",
            "\u001b[0;31mNameError\u001b[0m                                 Traceback (most recent call last)",
            "\u001b[0;32m/tmp/ipython-input-618143077.py\u001b[0m in \u001b[0;36m<cell line: 0>\u001b[0;34m()\u001b[0m\n\u001b[1;32m      1\u001b[0m \u001b[0mimage_url\u001b[0m \u001b[0;34m=\u001b[0m \u001b[0;34m'https://github.com/agentmorris/MegaDetector/raw/main/images/orinoquia-thumb-web.jpg'\u001b[0m\u001b[0;34m\u001b[0m\u001b[0;34m\u001b[0m\u001b[0m\n\u001b[0;32m----> 2\u001b[0;31m \u001b[0mtemporary_filename\u001b[0m \u001b[0;34m=\u001b[0m \u001b[0murl_utils\u001b[0m\u001b[0;34m.\u001b[0m\u001b[0mdownload_url\u001b[0m\u001b[0;34m(\u001b[0m\u001b[0mimage_url\u001b[0m\u001b[0;34m)\u001b[0m\u001b[0;34m\u001b[0m\u001b[0;34m\u001b[0m\u001b[0m\n\u001b[0m\u001b[1;32m      3\u001b[0m \u001b[0mimage\u001b[0m \u001b[0;34m=\u001b[0m \u001b[0mvis_utils\u001b[0m\u001b[0;34m.\u001b[0m\u001b[0mload_image\u001b[0m\u001b[0;34m(\u001b[0m\u001b[0mtemporary_filename\u001b[0m\u001b[0;34m)\u001b[0m\u001b[0;34m\u001b[0m\u001b[0;34m\u001b[0m\u001b[0m\n\u001b[1;32m      4\u001b[0m \u001b[0;34m\u001b[0m\u001b[0m\n\u001b[1;32m      5\u001b[0m \u001b[0mmodel\u001b[0m \u001b[0;34m=\u001b[0m \u001b[0mrun_detector\u001b[0m\u001b[0;34m.\u001b[0m\u001b[0mload_detector\u001b[0m\u001b[0;34m(\u001b[0m\u001b[0;34m'MDV5A'\u001b[0m\u001b[0;34m)\u001b[0m  \u001b[0;31m# Automatically downloads model weights\u001b[0m\u001b[0;34m\u001b[0m\u001b[0;34m\u001b[0m\u001b[0m\n",
            "\u001b[0;31mNameError\u001b[0m: name 'url_utils' is not defined"
          ]
        }
      ]
    }
  ]
}