{
  "nbformat": 4,
  "nbformat_minor": 0,
  "metadata": {
    "colab": {
      "provenance": [],
      "gpuType": "T4"
    },
    "kernelspec": {
      "name": "python3",
      "display_name": "Python 3"
    },
    "language_info": {
      "name": "python"
    },
    "accelerator": "GPU"
  },
  "cells": [
    {
      "cell_type": "markdown",
      "source": [
        "**Install needed dependencies**"
      ],
      "metadata": {
        "id": "kbjF5oEdPgnR"
      }
    },
    {
      "cell_type": "code",
      "execution_count": null,
      "metadata": {
        "id": "CiiqKi69PbvW"
      },
      "outputs": [],
      "source": [
        "!pip install speciesnet fiftyone"
      ]
    },
    {
      "cell_type": "markdown",
      "source": [
        "**Mount Google Drive**"
      ],
      "metadata": {
        "id": "1B4z7E3bnYF4"
      }
    },
    {
      "cell_type": "code",
      "source": [
        "from google.colab import drive\n",
        "drive.mount('/content/drive')"
      ],
      "metadata": {
        "id": "m-e4cAqcncGf"
      },
      "execution_count": null,
      "outputs": []
    },
    {
      "cell_type": "markdown",
      "source": [
        "**Unzip model weights**\n",
        "\n",
        "First, download model weights from here: https://www.kaggle.com/api/v1/models/google/speciesnet/pyTorch/v4.0.1b/1/download\n",
        "\n",
        "Then, move the download here to the root of your Google Drive"
      ],
      "metadata": {
        "id": "635uFlekLlZ-"
      }
    },
    {
      "cell_type": "code",
      "source": [
        "!mkdir -p /content/drive/MyDrive/SpeciesNet\n",
        "!tar -xvzf /content/drive/MyDrive/speciesnet-pytorch-v4.0.1b-v1.tar.gz -C /content/drive/MyDrive/SpeciesNet"
      ],
      "metadata": {
        "id": "NvtNtzMaLti9"
      },
      "execution_count": null,
      "outputs": []
    },
    {
      "cell_type": "markdown",
      "source": [
        "**Imports**"
      ],
      "metadata": {
        "id": "nXigojQrQ9Zu"
      }
    },
    {
      "cell_type": "code",
      "source": [
        "import copy\n",
        "import fiftyone as fo\n",
        "import json\n",
        "from PIL import Image\n",
        "import numpy as np\n",
        "import os\n",
        "import random\n",
        "from speciesnet import DEFAULT_MODEL\n",
        "from speciesnet import SUPPORTED_MODELS\n",
        "from speciesnet import only_one_true\n",
        "from speciesnet import SpeciesNet\n",
        "from speciesnet.ensemble_prediction_combiner import PredictionType\n",
        "from speciesnet.utils import load_partial_predictions\n",
        "from speciesnet.utils import prepare_instances_dict"
      ],
      "metadata": {
        "id": "sNquZB43Qwp9"
      },
      "execution_count": null,
      "outputs": []
    },
    {
      "cell_type": "markdown",
      "source": [
        "**Download some data (or upload your images to the same path)**"
      ],
      "metadata": {
        "id": "i_7ykKeJR2vC"
      }
    },
    {
      "cell_type": "code",
      "source": [
        "# %%bash\n",
        "import random\n",
        "import subprocess\n",
        "# Create the local directory if it doesn't exist\n",
        "!mkdir -p /images\n",
        "\n",
        "# Download files using gsutil\n",
        "for i in range(23):\n",
        "    image_num = random.randint(0, 10000)\n",
        "    img_path = f\"gs://public-datasets-lila/idaho-camera-traps/public/loc_{i:04}/loc_{i:04}_im_{image_num:06}.jpg\"\n",
        "    print(f\"Downloading: {img_path}\")\n",
        "    subprocess.run([\"gsutil\", \"-m\", \"cp\", \"-r\", img_path, \"/images\"])\n",
        "# gsutil -m cp -r \"gs://public-datasets-lila/missouricameratraps/images/Set1/1.60-Red_Fox/SEQ75195\" \"/images\"\n"
      ],
      "metadata": {
        "id": "9tov2i7cR8nA"
      },
      "execution_count": null,
      "outputs": []
    },
    {
      "cell_type": "markdown",
      "source": [
        "**Initialize SpeciesNet model object.**"
      ],
      "metadata": {
        "id": "8EmC-rKqUCDO"
      }
    },
    {
      "cell_type": "code",
      "source": [
        "model = SpeciesNet(\n",
        "    \"/content/drive/MyDrive/SpeciesNet\",\n",
        "    multiprocessing=True,\n",
        ")"
      ],
      "metadata": {
        "id": "kdpwSK3JUGbw"
      },
      "execution_count": null,
      "outputs": []
    },
    {
      "cell_type": "markdown",
      "source": [
        "**Make instances dictionary**"
      ],
      "metadata": {
        "id": "kRpD_cKdRBeD"
      }
    },
    {
      "cell_type": "code",
      "source": [
        "\n",
        "country = \"USA\",\n",
        "admin1_region = \"ID\",\n",
        "\n",
        "instances_dict = prepare_instances_dict(\n",
        "    folders=[\"/images\"],\n",
        "    country=country,\n",
        "    admin1_region=admin1_region,\n",
        ")\n",
        "os.makedirs(\"/content/outputs\", exist_ok=True)\n",
        "with open(\"/content/outputs/instances.json\", \"w\") as outfile:\n",
        "  json.dump(instances_dict, outfile, indent=4)\n"
      ],
      "metadata": {
        "id": "fMhA1Q7DQg0R"
      },
      "execution_count": null,
      "outputs": []
    },
    {
      "cell_type": "markdown",
      "source": [
        "**Get detections**"
      ],
      "metadata": {
        "id": "6QfKsNBET6po"
      }
    },
    {
      "cell_type": "code",
      "source": [
        "dets_dict = model.detect(\n",
        "    instances_dict=instances_dict,\n",
        "    run_mode=\"multi_process\",\n",
        "    # batch_size=self.batch_size,\n",
        "    progress_bars=True,\n",
        "    predictions_json=None,\n",
        ")\n",
        "with open(\"/content/outputs/dets.json\", \"w\") as outfile:\n",
        "  json.dump(dets_dict, outfile, indent=4)"
      ],
      "metadata": {
        "id": "-HizjY-EX0dU"
      },
      "execution_count": null,
      "outputs": []
    },
    {
      "cell_type": "markdown",
      "source": [
        "**Save crops of detections (to force classification of all detections)**"
      ],
      "metadata": {
        "id": "q5rSk9xMBhko"
      }
    },
    {
      "cell_type": "code",
      "source": [
        "temp_path = os.path.join(\n",
        "    \"/content\",\n",
        "    \"temp\",\n",
        "    \"speciesnet_crops\",\n",
        ")\n",
        "print(temp_path)\n",
        "os.makedirs(temp_path, exist_ok=True)\n",
        "temp_2_original = {}\n",
        "cropped_dets = []\n",
        "i = 0\n",
        "for sample in dets_dict[\"predictions\"]:\n",
        "    img = Image.open(sample[\"filepath\"])\n",
        "    img_w, img_h = img.size\n",
        "    _, ext = os.path.splitext(sample['filepath'])\n",
        "    for det in sample[\"detections\"]:\n",
        "        x, y, w, h = det[\"bbox\"]\n",
        "        xmin, xmax = int(np.floor(img_w * x)), int(np.ceil(img_w * (x + w)))\n",
        "        ymin, ymax = int(np.floor(img_h * y)), int(np.ceil(img_h * (y + h)))\n",
        "        det_crop = img.crop((xmin, ymin, xmax, ymax))\n",
        "        det_filepath = os.path.join(\n",
        "            temp_path,\n",
        "            f\"{i}{ext}\"\n",
        "        )\n",
        "        det_crop.save(det_filepath)\n",
        "        cropped_det = copy.deepcopy(det)\n",
        "        cropped_det[\"filepath\"] = det_filepath\n",
        "        cropped_det[\"bbox\"] = [0.0, 0.0, 1.0, 1.0]\n",
        "        cropped_dets.append(cropped_det)\n",
        "        temp_2_original[det_filepath] = {\n",
        "            \"filepath\": sample[\"filepath\"],\n",
        "            \"bbox\": det[\"bbox\"],\n",
        "        }\n",
        "        i += 1\n",
        "cropped_dets_dict = {\"predictions\": cropped_dets}\n",
        "with open(\"/content/outputs/cropped_dets.json\", \"w\") as outfile:\n",
        "  json.dump(cropped_dets_dict, outfile, indent=4)\n",
        "cropped_instances_dict = prepare_instances_dict(\n",
        "    folders=[temp_path],\n",
        "    country=country,\n",
        "    admin1_region=admin1_region,\n",
        ")\n",
        "with open(\"/content/outputs/cropped_instances.json\", \"w\") as outfile:\n",
        "  json.dump(cropped_instances_dict, outfile, indent=4)"
      ],
      "metadata": {
        "id": "8uD-CCpbppa4"
      },
      "execution_count": null,
      "outputs": []
    },
    {
      "cell_type": "markdown",
      "source": [
        "**Classify all detections**"
      ],
      "metadata": {
        "id": "_7kIgKSIBpNu"
      }
    },
    {
      "cell_type": "code",
      "source": [
        "# Get classification for all bounding boxes\n",
        "cropped_labels_dict = model.classify(\n",
        "    instances_dict=cropped_instances_dict,\n",
        "    detections_dict=cropped_dets_dict,\n",
        "    run_mode=\"multi_process\",\n",
        "    # batch_size=self.batch_size,\n",
        "    progress_bars=True,\n",
        "    predictions_json=None,\n",
        ")\n",
        "with open(\"/content/outputs/cropped_labels.json\", \"w\") as outfile:\n",
        "  json.dump(cropped_labels_dict, outfile, indent=4)"
      ],
      "metadata": {
        "id": "KZ8qD0wbByXF"
      },
      "execution_count": null,
      "outputs": []
    },
    {
      "cell_type": "markdown",
      "source": [
        "**Store results in Fiftyone**\n",
        "\n",
        "species in model listed here: https://github.com/google/cameratrapai/blob/main/model_cards/v4.0.1b.md#label-distribution"
      ],
      "metadata": {
        "id": "TMns4qF-OvWQ"
      }
    },
    {
      "cell_type": "code",
      "source": [
        "fo_name = \"SpeciesNet_Demo\" #warning: will be deleted if it exists!\n",
        "conf_threshold = 0.4\n",
        "target_labels = {\n",
        "    \"human\",\n",
        "    \"elk\",\n",
        "    \"white-tailed deer\",\n",
        "    \"mule deer\",\n",
        "    \"coyote\",\n",
        "    \"red fox\",\n",
        "    \"domestic cattle\",\n",
        "    \"pronghorn\",\n",
        "    \"puma\",\n",
        "    \"bobcat\",\n",
        "    \"black-billed magpie\",\n",
        "}\n",
        "\n",
        "print(temp_2_original)\n",
        "try:\n",
        "    fo.load_dataset(fo_name).delete()\n",
        "except:\n",
        "    pass\n",
        "dataset = fo.Dataset(fo_name)\n",
        "dataset.persistent = True\n",
        "\n",
        "fo_dets = {}\n",
        "for cropped_label in cropped_labels_dict[\"predictions\"]:\n",
        "    label = \"other\"\n",
        "    conf = 0.0\n",
        "    for i in range(len(cropped_label[\"classifications\"][\"classes\"])):\n",
        "        full_label = cropped_label[\"classifications\"][\"classes\"][i]\n",
        "        species_label = full_label.split(\";\")[-1]\n",
        "        species_conf = cropped_label[\"classifications\"][\"scores\"][i]\n",
        "        if species_label in target_labels and species_conf >= conf_threshold:\n",
        "            label = species_label\n",
        "            conf = species_conf\n",
        "            break\n",
        "        elif species_conf > conf:\n",
        "            conf = species_conf\n",
        "    cropped_filepath = cropped_label[\"filepath\"]\n",
        "    original_filepath = temp_2_original[cropped_filepath][\"filepath\"]\n",
        "    bbox = temp_2_original[cropped_filepath][\"bbox\"]\n",
        "    try:\n",
        "        fo_dets[original_filepath].append(fo.Detection(\n",
        "            label = label,\n",
        "            bounding_box = bbox,\n",
        "            confidence = conf\n",
        "        ))\n",
        "    except KeyError:\n",
        "        fo_dets[original_filepath] = [fo.Detection(\n",
        "            label = label,\n",
        "            bounding_box = bbox,\n",
        "            confidence = conf\n",
        "        )]\n",
        "\n",
        "for filepath, dets in fo_dets.items():\n",
        "    sample = fo.Sample(filepath=filepath)\n",
        "    sample[\"SpeciesNet\"] = fo.Detections(detections=dets)\n",
        "    dataset.add_sample(sample)\n",
        "dataset.save()"
      ],
      "metadata": {
        "id": "kr0n0naTO47E"
      },
      "execution_count": null,
      "outputs": []
    },
    {
      "cell_type": "code",
      "source": [
        "session = fo.launch_app(dataset)"
      ],
      "metadata": {
        "id": "m_Rrf47ds0uA"
      },
      "execution_count": null,
      "outputs": []
    },
    {
      "cell_type": "code",
      "source": [
        "session.close()"
      ],
      "metadata": {
        "id": "9eHZjeLxpSsP"
      },
      "execution_count": null,
      "outputs": []
    }
  ]
}